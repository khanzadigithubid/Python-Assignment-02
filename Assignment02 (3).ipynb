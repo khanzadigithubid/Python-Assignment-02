{
  "nbformat": 4,
  "nbformat_minor": 0,
  "metadata": {
    "colab": {
      "provenance": []
    },
    "kernelspec": {
      "name": "python3",
      "display_name": "Python 3"
    },
    "language_info": {
      "name": "python"
    }
  },
  "cells": [
    {
      "cell_type": "markdown",
      "source": [
        "KHANZADI WAZIR ALI\n",
        "\n",
        "00272819\n",
        "\n",
        "ASSIGNMENT 02"
      ],
      "metadata": {
        "id": "0FncF7gd8mjU"
      }
    },
    {
      "cell_type": "markdown",
      "source": [
        "\n",
        "Simple Calculator"
      ],
      "metadata": {
        "id": "bJ1Hxocw8wO5"
      }
    },
    {
      "cell_type": "code",
      "execution_count": null,
      "metadata": {
        "colab": {
          "base_uri": "https://localhost:8080/"
        },
        "id": "OHHUvsQY8VhM",
        "outputId": "57103361-19e8-4f2b-e7ce-031ec71a4f14"
      },
      "outputs": [
        {
          "output_type": "stream",
          "name": "stdout",
          "text": [
            "Enter your first number: 6\n",
            "Enter your second number: 1\n",
            "Select operator (+, -, *, /, %, **, //): /\n",
            "Result of 6 / 1 is: 6.0\n"
          ]
        }
      ],
      "source": [
        "number_1 = int(input(\"Enter your first number: \"))\n",
        "number_2 = int(input(\"Enter your second number: \"))\n",
        "operator = input(\"Select operator (+, -, *, /, %, **, //): \")\n",
        "\n",
        "if operator == \"+\":\n",
        "    print(f\"Result of {number_1} + {number_2} is: {number_1 + number_2}\")\n",
        "elif operator == \"-\":\n",
        "    print(f\"Result of {number_1} - {number_2} is: {number_1 - number_2}\")\n",
        "elif operator == \"*\":\n",
        "    print(f\"Result of {number_1} * {number_2} is: {number_1 * number_2}\")\n",
        "elif operator == \"/\":\n",
        "    if number_1 == 0 or number_2 == 0:\n",
        "        print(\"Error: Division by zero is not allowed!\")\n",
        "    else:\n",
        "        print(f\"Result of {number_1} / {number_2} is: {number_1 / number_2}\")\n",
        "elif operator == \"%\":\n",
        "    if number_1 == 0 or number_2 == 0:\n",
        "        print(\"Error: Modulo by zero is not allowed!\")\n",
        "    else:\n",
        "        print(f\"Result of {number_1} % {number_2} is: {number_1 % number_2}\")\n",
        "elif operator == \"**\":\n",
        "    print(f\"Result of {number_1} ** {number_2} is: {number_1 ** number_2}\")\n",
        "elif operator == \"//\":\n",
        "    if number_1 == 0 or number_2 == 0:\n",
        "        print(\"Error: Floor division by zero is not allowed!\")\n",
        "    else:\n",
        "        print(f\"Result of {number_1} // {number_2} is: {number_1 // number_2}\")\n",
        "else:\n",
        "    print(\"Invalid operator! Please enter a valid one.\")"
      ]
    },
    {
      "cell_type": "markdown",
      "source": [
        "Student Marks Grading System"
      ],
      "metadata": {
        "id": "HX7OW9LT_0So"
      }
    },
    {
      "cell_type": "code",
      "source": [
        "marks = int(input(\"Enter your marks: \"))\n",
        "\n",
        "# Grading logic\n",
        "if marks >= 90:\n",
        "    print(f\"Grade: A+ (Excellent) - Marks: {marks}\")\n",
        "elif marks >= 80:\n",
        "    print(f\"Grade: A (Very Good) - Marks: {marks}\")\n",
        "elif marks >= 70:\n",
        "    print(f\"Grade: B (Good) - Marks: {marks}\")\n",
        "elif marks >= 60:\n",
        "    print(f\"Grade: C (Average) - Marks: {marks}\")\n",
        "elif marks >= 50:\n",
        "    print(f\"Grade: D (Below Average) - Marks: {marks}\")\n",
        "else:\n",
        "    print(f\"Grade: F (Fail) - Marks: {marks}\")"
      ],
      "metadata": {
        "colab": {
          "base_uri": "https://localhost:8080/"
        },
        "id": "53J4nVpa_IqY",
        "outputId": "4fbf1819-0a73-4efa-80b0-c227e74eb5c5"
      },
      "execution_count": null,
      "outputs": [
        {
          "output_type": "stream",
          "name": "stdout",
          "text": [
            "Enter your marks: 50\n",
            "Grade: D (Below Average) - Marks: 50\n"
          ]
        }
      ]
    }
  ]
}